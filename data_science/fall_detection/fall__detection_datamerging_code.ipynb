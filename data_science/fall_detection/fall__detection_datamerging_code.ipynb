{
 "cells": [
  {
   "cell_type": "markdown",
   "id": "a9e79ed9-d635-45a0-8f3b-0b4ac4a41a98",
   "metadata": {},
   "source": [
    "# Fall Detection for Elderly Wearable Tech"
   ]
  },
  {
   "cell_type": "markdown",
   "id": "167f8bc4-12a7-4d9f-a5a6-074048b66279",
   "metadata": {},
   "source": [
    "### Data Collection and Preparation\n",
    "####  Data Sources\n",
    "The dataset used in this project consists of time-series data collected from wearable devices, specifically accelerometer and gyroscope sensors. The sensors operate at a frequency of 50Hz, capturing detailed motion data. The data contains multiple fall scenarios along with routine movements, which helps in training the model to recognize fall patterns.\n",
    "#### Data Merging and Cleaning\n",
    "To combine the accelerometer and gyroscope data, the datasets were merged on the timestamp for each activity. Gyroscope time lists were discarded to avoid redundancy, and missing values were carefully handled by removing NaNs, ensuring data integrity for the model."
   ]
  },
  {
   "cell_type": "code",
   "execution_count": 15,
   "id": "fac9088b-591a-42f5-8318-42227dea371d",
   "metadata": {},
   "outputs": [
    {
     "name": "stdout",
     "output_type": "stream",
     "text": [
      "All files merged and labeled successfully.\n",
      "Final merged dataset saved with user and fall type information.\n"
     ]
    }
   ],
   "source": [
    "import os\n",
    "import pandas as pd\n",
    "import numpy as np\n",
    "\n",
    "\n",
    "# Function to merge accel and gyro data\n",
    "def merge_data(accel_file, gyro_file):\n",
    "    accel_data = pd.read_csv(accel_file)\n",
    "    gyro_data = pd.read_csv(gyro_file)\n",
    "    merged_data = pd.concat([accel_data, gyro_data.drop(columns=['gyro_time_list'])], axis=1)  # drop gyro_time_list\n",
    "    return merged_data\n",
    "\n",
    "# Function to label the merged data based on timestamps\n",
    "def apply_labels(merged_data, filename, fall_timestamps):\n",
    "    # Filter rows for the current filename\n",
    "    file_timestamps = fall_timestamps[fall_timestamps['filename'] == filename]\n",
    "\n",
    "    # Initialize the labels column with 0\n",
    "    merged_data['labels'] = 0\n",
    "\n",
    "    # Loop through each timestamp entry for this file\n",
    "    for _, row in file_timestamps.iterrows():\n",
    "        start_time = row['start_time']\n",
    "        end_time = row['end_time']\n",
    "\n",
    "        # Assign label 1 if accel_time_list falls within the start_time and end_time\n",
    "        merged_data.loc[(merged_data['accel_time_list'] >= start_time) & (merged_data['accel_time_list'] <= end_time), 'labels'] = 1\n",
    "\n",
    "    return merged_data\n",
    "\n",
    "# Load the fall timestamps data\n",
    "fall_timestamps_path = 'path_to_dataset/fall_timestamps.csv'\n",
    "fall_timestamps = pd.read_csv(fall_timestamps_path)\n",
    "\n",
    "# Base directory containing F01, F02, ... folders\n",
    "base_dir = 'path_to_dataset/50hz/'\n",
    "\n",
    "# Prepare to store all merged data with user and fall information\n",
    "all_data = []\n",
    "\n",
    "# Iterate over F01, F02, ..., F08 folders only\n",
    "for folder in os.listdir(base_dir):\n",
    "    if folder.startswith('F'):  # Ensure we are working only on F folders (fall types)\n",
    "        folder_path = os.path.join(base_dir, folder)\n",
    "\n",
    "        # Extract the fall type from the folder name (e.g., F01)\n",
    "        fall_type = folder\n",
    "\n",
    "        # Iterate over the files in each folder\n",
    "        for root, dirs, files in os.walk(folder_path):\n",
    "            for file in files:\n",
    "                if 'accel.csv' in file:\n",
    "                    # Identify corresponding gyro file\n",
    "                    gyro_file = file.replace('accel.csv', 'gyro.csv')\n",
    "                    \n",
    "                    accel_file_path = os.path.join(root, file)\n",
    "                    gyro_file_path = os.path.join(root, gyro_file)\n",
    "                    \n",
    "                    if os.path.exists(gyro_file_path):\n",
    "                        # Merge accel and gyro data\n",
    "                        merged_data = merge_data(accel_file_path, gyro_file_path)\n",
    "                        \n",
    "                        # Get the filename format used in the fall_timestamps file (e.g., F01/U01_R01)\n",
    "                        filename = f\"{folder}/{file.replace('_accel.csv', '')}\"\n",
    "                        \n",
    "                        # Extract user ID (e.g., U01) from the file name\n",
    "                        user_id = file.split('_')[0]\n",
    "\n",
    "                        # Apply labels to the merged data based on the timestamps\n",
    "                        merged_data = apply_labels(merged_data, filename, fall_timestamps)\n",
    "                        \n",
    "                        # Add user and fall type columns to the merged data\n",
    "                        merged_data['user_id'] = user_id\n",
    "                        merged_data['fall_type'] = fall_type\n",
    "                        \n",
    "                        # Append the merged data to the all_data list\n",
    "                        all_data.append(merged_data)\n",
    "\n",
    "                        # Optionally, remove the original files after merging\n",
    "                        os.remove(accel_file_path)\n",
    "                        os.remove(gyro_file_path)\n",
    "\n",
    "print(\"All files merged and labeled successfully.\")\n",
    "\n",
    "# Step 2: Combine all merged data into one final dataset\n",
    "final_merged_data = pd.concat(all_data, axis=0)\n",
    "\n",
    "# Save the final merged dataset to a CSV file\n",
    "final_output_path = 'path_to_dataset/final_merged_dataset_with_users_fall.csv'\n",
    "final_merged_data.to_csv(final_output_path, index=False)\n",
    "print(\"Final merged dataset saved with user and fall type information.\")"
   ]
  }
 ],
 "metadata": {
  "kernelspec": {
   "display_name": "Python 3 (ipykernel)",
   "language": "python",
   "name": "python3"
  },
  "language_info": {
   "codemirror_mode": {
    "name": "ipython",
    "version": 3
   },
   "file_extension": ".py",
   "mimetype": "text/x-python",
   "name": "python",
   "nbconvert_exporter": "python",
   "pygments_lexer": "ipython3",
   "version": "3.12.4"
  }
 },
 "nbformat": 4,
 "nbformat_minor": 5
}
