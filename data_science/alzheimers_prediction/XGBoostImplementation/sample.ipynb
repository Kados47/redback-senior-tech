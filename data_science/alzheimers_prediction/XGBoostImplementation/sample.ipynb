{
 "cells": [
  {
   "cell_type": "code",
   "execution_count": null,
   "metadata": {
    "vscode": {
     "languageId": "plaintext"
    }
   },
   "outputs": [],
   "source": [
    "import pandas as pd\n",
    "from sklearn.model_selection import train_test_split\n",
    "from sklearn.ensemble import RandomForestClassifier\n",
    "from sklearn.preprocessing import StandardScaler, OneHotEncoder\n",
    "from sklearn.metrics import classification_report, roc_curve, auc\n",
    "import matplotlib.pyplot as plt"
   ]
  },
  {
   "cell_type": "code",
   "execution_count": null,
   "metadata": {
    "vscode": {
     "languageId": "plaintext"
    }
   },
   "outputs": [],
   "source": [
    "# Load the dataset\n",
    "dataset = pd.read_csv('dataset.csv')\n",
    "\n",
    "# Step 1: Harmonize features\n",
    "def harmonize_features(dataset):\n",
    "    dataset.rename(columns={\n",
    "        \"Age Group\": \"Age\",\n",
    "        \"Mental Health\": \"MentalDistress\",\n",
    "        \"Data_Value\": \"MentalDistressPercentage\",\n",
    "        \"Outcome_Column_Name\": \"Outcome\"  # Replace with the actual target column name\n",
    "    }, inplace=True)\n",
    "    return dataset\n",
    "\n",
    "dataset = harmonize_features(dataset)\n"
   ]
  },
  {
   "cell_type": "code",
   "execution_count": null,
   "metadata": {
    "vscode": {
     "languageId": "plaintext"
    }
   },
   "outputs": [],
   "source": [
    "# Step 2: Data standardization\n",
    "def preprocess_data(dataset):\n",
    "    # Handle missing values\n",
    "    dataset.fillna({\n",
    "        \"Age\": dataset[\"Age\"].median(),\n",
    "        \"MentalDistressPercentage\": dataset[\"MentalDistressPercentage\"].mean(),\n",
    "        \"Race\": \"Unknown\"\n",
    "    }, inplace=True)\n",
    "    \n",
    "    # Normalize numerical features\n",
    "    scaler = StandardScaler()\n",
    "    dataset[\"MentalDistressPercentage\"] = scaler.fit_transform(dataset[[\"MentalDistressPercentage\"]])\n",
    "    \n",
    "    # Encode categorical features\n",
    "    encoder = OneHotEncoder()\n",
    "    encoded_race = encoder.fit_transform(dataset[[\"Race\"]]).toarray()\n",
    "    race_columns = [f\"Race_{cat}\" for cat in encoder.categories_[0]]\n",
    "    encoded_df = pd.DataFrame(encoded_race, columns=race_columns, index=dataset.index)\n",
    "    dataset = pd.concat([dataset, encoded_df], axis=1).drop(\"Race\", axis=1)\n",
    "    \n",
    "    return dataset\n",
    "\n",
    "dataset = preprocess_data(dataset)"
   ]
  },
  {
   "cell_type": "code",
   "execution_count": null,
   "metadata": {
    "vscode": {
     "languageId": "plaintext"
    }
   },
   "outputs": [],
   "source": [
    "# Step 3: Split the dataset into training and testing sets\n",
    "X = dataset.drop(columns=[\"Outcome\"])\n",
    "y = dataset[\"Outcome\"]\n",
    "\n",
    "X_train, X_test, y_train, y_test = train_test_split(X, y, test_size=0.2, random_state=42)"
   ]
  },
  {
   "cell_type": "code",
   "execution_count": null,
   "metadata": {
    "vscode": {
     "languageId": "plaintext"
    }
   },
   "outputs": [],
   "source": [
    "# Step 4: Train the model\n",
    "model = RandomForestClassifier(random_state=42)\n",
    "model.fit(X_train, y_train)"
   ]
  },
  {
   "cell_type": "code",
   "execution_count": null,
   "metadata": {
    "vscode": {
     "languageId": "plaintext"
    }
   },
   "outputs": [],
   "source": [
    "# Step 5: Evaluate the model\n",
    "y_pred = model.predict(X_test)\n",
    "print(\"Evaluation on Test Data:\")\n",
    "print(classification_report(y_test, y_pred))"
   ]
  },
  {
   "cell_type": "code",
   "execution_count": null,
   "metadata": {
    "vscode": {
     "languageId": "plaintext"
    }
   },
   "outputs": [],
   "source": [
    "# Step 6: Plot ROC curve\n",
    "y_pred_prob = model.predict_proba(X_test)\n",
    "\n",
    "fpr, tpr, _ = roc_curve(y_test, y_pred_prob[:, 1])\n",
    "roc_auc = auc(fpr, tpr)\n",
    "\n",
    "plt.figure(figsize=(10, 6))\n",
    "plt.plot(fpr, tpr, label=f\"ROC Curve (AUC = {roc_auc:.2f})\")\n",
    "plt.plot([0, 1], [0, 1], 'k--', label=\"Random\")\n",
    "plt.xlabel(\"False Positive Rate\")\n",
    "plt.ylabel(\"True Positive Rate\")\n",
    "plt.title(\"ROC Curve\")\n",
    "plt.legend()\n",
    "plt.show()"
   ]
  }
 ],
 "metadata": {
  "kernelspec": {
   "display_name": "Python 3",
   "language": "python",
   "name": "python3"
  },
  "language_info": {
   "codemirror_mode": {
    "name": "ipython",
    "version": 3
   },
   "file_extension": ".py",
   "mimetype": "text/x-python",
   "name": "python",
   "nbconvert_exporter": "python",
   "pygments_lexer": "ipython3",
   "version": "3.11.8"
  }
 },
 "nbformat": 4,
 "nbformat_minor": 2
}
